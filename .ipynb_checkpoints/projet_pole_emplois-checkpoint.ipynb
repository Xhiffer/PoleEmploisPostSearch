{
 "cells": [
  {
   "cell_type": "code",
   "execution_count": 1,
   "metadata": {},
   "outputs": [],
   "source": [
    "#lib used\n",
    "from bs4 import BeautifulSoup\n",
    "import requests\n",
    "import pandas as pd\n",
    "import requests\n",
    "from selenium.webdriver.common.by import By\n",
    "from selenium.webdriver.common.keys import Keys\n",
    "from selenium.webdriver.support.ui import WebDriverWait\n",
    "from selenium.webdriver.support import expected_conditions as EC\n",
    "from pymongo import MongoClient\n",
    "from selenium import webdriver\n",
    "from datetime import date\n",
    "from datetime import date,datetime,timedelta\n",
    "import time as t\n",
    "import re\n",
    "import sys"
   ]
  },
  {
   "cell_type": "code",
   "execution_count": 2,
   "metadata": {},
   "outputs": [],
   "source": [
    "def Click(element: str, attribute: str) :\n",
    "    if attribute == \"class\" :\n",
    "        CLICK = WebDriverWait(browser, 10).until(EC.presence_of_element_located((By.CLASS_NAME ,element)))\n",
    "        CLICK.click()\n",
    "        t.sleep(0.2)\n",
    "        return CLICK\n",
    "    else :\n",
    "        CLICK = WebDriverWait(browser, 10).until(EC.presence_of_element_located((By.ID ,element)))\n",
    "        CLICK.click()\n",
    "        t.sleep(0.2)\n",
    "        return CLICK\n",
    "\n",
    "        \n",
    "def Input(element: str, attribute: str, input_string: str) :\n",
    "    if attribute == \"class\" :\n",
    "        INPUT = WebDriverWait(browser, 10).until(EC.presence_of_element_located((By.CLASS_NAME ,element)))\n",
    "        INPUT.send_keys(input_string)\n",
    "        t.sleep(0.2)\n",
    "        return INPUT\n",
    "    else :\n",
    "        INPUT = WebDriverWait(browser, 10).until(EC.presence_of_element_located((By.ID ,element)))\n",
    "        INPUT.send_keys(input_string)\n",
    "        t.sleep(0.2)\n",
    "        return INPUT"
   ]
  },
  {
   "cell_type": "code",
   "execution_count": 3,
   "metadata": {},
   "outputs": [],
   "source": [
    "liste_compétences = 'python'\n",
    "liste_lieux = 'Paris '\n",
    "\n",
    "def search_post(): \n",
    "    Input('idmotsCles-selectized','id',liste_compétences)\n",
    "    t.sleep(0.5)\n",
    "    hihi = Input('idlieux-selectized','id',liste_lieux)\n",
    "    hihi.send_keys(Keys.BACKSPACE)\n",
    "    t.sleep(0.5)\n",
    "    hihi.send_keys(Keys.ENTER)\n",
    "    Click('filtre-experience','id').send_keys(u'\\ue004' + u'\\ue00d')\n",
    "    t.sleep(0.5)\n",
    "    Click('btn.btn-lg.btn-primary.btn-search','class')\n",
    "    \n",
    "def pole_connection() :\n",
    "    Click('btn.btn-header.btn-account.dropdown-toggle','class')\n",
    "    Click('btn.btn-header.menu-link-candidat','class')\n",
    "    t.sleep(3)\n",
    "    Input('identifiant', 'id', \"xx\")\n",
    "    Click('btn.btn-lg.btn-primary.btn-block.col-sm-6.col-xs-12.col-sm-push-6','class')\n",
    "    t.sleep(3)\n",
    "    Input('password','id','xx')\n",
    "    Click('submit','id')"
   ]
  },
  {
   "cell_type": "code",
   "execution_count": 11,
   "metadata": {},
   "outputs": [],
   "source": [
    "\n",
    "\n",
    "lien = 'https://candidat.pole-emploi.fr/offres/recherche?offresPartenaires=true&range=0-19&rayon=10&tri=0'\n",
    "browser = webdriver.Firefox(executable_path='geckodriver.exe')\n",
    "browser.get(lien)\n",
    "browser.maximize_window()\n",
    "t.sleep(1)\n",
    "pole_connection()\n",
    "search_post()"
   ]
  },
  {
   "cell_type": "code",
   "execution_count": 29,
   "metadata": {},
   "outputs": [],
   "source": [
    "search_post()"
   ]
  }
 ],
 "metadata": {
  "kernelspec": {
   "display_name": "Python 3",
   "language": "python",
   "name": "python3"
  },
  "language_info": {
   "codemirror_mode": {
    "name": "ipython",
    "version": 3
   },
   "file_extension": ".py",
   "mimetype": "text/x-python",
   "name": "python",
   "nbconvert_exporter": "python",
   "pygments_lexer": "ipython3",
   "version": "3.8.5"
  }
 },
 "nbformat": 4,
 "nbformat_minor": 4
}
